{
 "cells": [
  {
   "cell_type": "markdown",
   "metadata": {},
   "source": [
    "# Entrega 4: Variação paramétrica"
   ]
  },
  {
   "cell_type": "markdown",
   "metadata": {},
   "source": [
    "Nesse notebook/relatório iremos realizar e justificar o processo em cada etapa da experimentação com modelos de classificação seguindo o conteúdo aprendido ao longo da disciplina. Nos baseamos nos notebooks fornecidos pelo professor ao longo das aulas. \n",
    "\n",
    "**Disclaimer**: Vale ressaltar que, pela natureza do dataset, a classificação que mais faz sentido de ser feita é a entre o gênero dos usuários. Entretando, de nenhuma maneira os participantes desse grupo concordam com a visão de que seria ético delimitar um padrão de usuário baseado apenas em gênero e a ferramenta que estaremos criando aqui não deve ser usada para prejudicar a equidade entre pessoas de diferentes gêneros."
   ]
  },
  {
   "cell_type": "markdown",
   "metadata": {},
   "source": [
    "### Grupo\n",
    " - Nilo Bemfica (nbmcd)\n",
    " - Pedro Didier (pdm)\n",
    " - Pedro Tenório (ptl)"
   ]
  },
  {
   "cell_type": "markdown",
   "metadata": {},
   "source": [
    "# Importando bibliotecas"
   ]
  },
  {
   "cell_type": "code",
   "execution_count": 1,
   "metadata": {},
   "outputs": [
    {
     "name": "stderr",
     "output_type": "stream",
     "text": [
      "c:\\Users\\Pedro\\anaconda3\\lib\\site-packages\\scipy\\__init__.py:138: UserWarning: A NumPy version >=1.16.5 and <1.23.0 is required for this version of SciPy (detected version 1.24.4)\n",
      "  warnings.warn(f\"A NumPy version >={np_minversion} and <{np_maxversion} is required for this version of \"\n"
     ]
    }
   ],
   "source": [
    "import os\n",
    "import random\n",
    "import pandas as pd\n",
    "import seaborn as sns\n",
    "import matplotlib.pyplot as plt\n",
    "import numpy as np\n",
    "from scipy import stats\n",
    "from sklearn import model_selection\n",
    "from sklearn.model_selection import RepeatedStratifiedKFold\n",
    "from sklearn.model_selection import RandomizedSearchCV\n",
    "from sklearn import tree\n",
    "from sklearn.metrics import classification_report\n",
    "from sklearn.metrics import confusion_matrix\n",
    "from sklearn.ensemble import RandomForestClassifier\n",
    "from sklearn.neural_network import MLPClassifier\n",
    "from sklearn.ensemble import BaggingClassifier\n",
    "from sklearn.ensemble import GradientBoostingClassifier\n",
    "from sklearn.svm import SVC\n",
    "from sklearn.model_selection import StratifiedKFold\n",
    "from sklearn.model_selection import train_test_split\n",
    "from warnings import filterwarnings\n",
    "filterwarnings('ignore')"
   ]
  },
  {
   "cell_type": "markdown",
   "metadata": {},
   "source": [
    "# Preparando ambiente de experimentos"
   ]
  },
  {
   "cell_type": "markdown",
   "metadata": {},
   "source": [
    "Definindo uma seed para reprodutibilidade do experimento"
   ]
  },
  {
   "cell_type": "code",
   "execution_count": 2,
   "metadata": {},
   "outputs": [],
   "source": [
    "seed_value= 42\n",
    "# Fixando a seed para reprodutibilidade dos experimentos\n",
    "os.environ['PYTHONHASHSEED']=str(seed_value)\n",
    "random.seed(seed_value)\n",
    "np.random.seed(seed_value)"
   ]
  },
  {
   "cell_type": "markdown",
   "metadata": {},
   "source": [
    "## Carregamento dos dados tratados"
   ]
  },
  {
   "cell_type": "code",
   "execution_count": 3,
   "metadata": {},
   "outputs": [],
   "source": [
    "df = pd.read_csv(\"homologated_data.csv\")"
   ]
  },
  {
   "cell_type": "markdown",
   "metadata": {},
   "source": [
    "## Adaptando inputs para experimentos com Machine Learning\n",
    "Vamos fazer as seguintes adaptações finais:\n",
    " - Manter apenas a coluna de gender como target, removendo os 'unknown' (label 0). Não faz sentido fazer uma classificação de gênero com usuários que não declararam seu gênero ou preferiram não responder."
   ]
  },
  {
   "cell_type": "code",
   "execution_count": 4,
   "metadata": {},
   "outputs": [],
   "source": [
    "df = df.drop(columns=[\"C_man\", \"C_api\"])\n",
    "df = df[df[\"gender\"] != 0].reset_index(drop=True)"
   ]
  },
  {
   "cell_type": "markdown",
   "metadata": {},
   "source": [
    " - Transformar as colunas de datetime em colunas numéricas, contando a partir do dia inicial como dia 0"
   ]
  },
  {
   "cell_type": "code",
   "execution_count": 5,
   "metadata": {},
   "outputs": [],
   "source": [
    "# Função para transformar tempo em um valor inteiro, preservando semantica\n",
    "def time_to_int(date_str):\n",
    "    date = pd.to_datetime(date_str)\n",
    "\n",
    "    total = int(date.strftime('%S'))\n",
    "    total += int(date.strftime('%M')) * 60\n",
    "    total += int(date.strftime('%H')) * 60 * 60\n",
    "    total += (int(date.strftime('%j')) - 1) * 60 * 60 * 24\n",
    "    # 2002 é o ano mais antigo no dataset\n",
    "    total += (int(date.strftime('%Y')) - 2002) * 60 * 60 * 24 * 365\n",
    "    return total\n",
    "\n",
    "df[\"firstDay\"] = df[\"firstDay\"].apply(time_to_int)\n",
    "df[\"lastDay\"] = df[\"lastDay\"].apply(time_to_int)"
   ]
  },
  {
   "cell_type": "markdown",
   "metadata": {},
   "source": [
    "## Train-test split"
   ]
  },
  {
   "cell_type": "code",
   "execution_count": 6,
   "metadata": {},
   "outputs": [
    {
     "data": {
      "text/plain": [
       "Index(['gender', 'E_NEds', 'E_Bpag', 'firstDay', 'lastDay', 'NEds', 'NDays',\n",
       "       'NActDays', 'NPages', 'NPcreated', 'pagesWomen', 'wikiprojWomen',\n",
       "       'ns_user', 'ns_wikipedia', 'ns_talk', 'ns_userTalk', 'ns_content',\n",
       "       'weightIJ', 'NIJ'],\n",
       "      dtype='object')"
      ]
     },
     "execution_count": 6,
     "metadata": {},
     "output_type": "execute_result"
    }
   ],
   "source": [
    "df.columns"
   ]
  },
  {
   "cell_type": "markdown",
   "metadata": {},
   "source": [
    "Vamos definir nossa label (coluna gender) e as nossas features (demais colunas)"
   ]
  },
  {
   "cell_type": "code",
   "execution_count": 7,
   "metadata": {},
   "outputs": [],
   "source": [
    "X = df.drop(columns=[\"gender\"]).values\n",
    "y = df[\"gender\"].values"
   ]
  },
  {
   "cell_type": "code",
   "execution_count": 8,
   "metadata": {},
   "outputs": [],
   "source": [
    "X_train, X_test, y_train, y_test = train_test_split(\n",
    "    X, \n",
    "    y, \n",
    "    random_state=seed_value\n",
    ")"
   ]
  },
  {
   "cell_type": "markdown",
   "metadata": {},
   "source": [
    "Também vamos utilizar crossvalidation para nossa experimentação. Escolhemos o algoritmo k-fold com popular valor de k=10."
   ]
  },
  {
   "cell_type": "code",
   "execution_count": 9,
   "metadata": {},
   "outputs": [],
   "source": [
    "cv = model_selection.StratifiedKFold(n_splits=10)"
   ]
  },
  {
   "cell_type": "markdown",
   "metadata": {},
   "source": [
    "# Modelagem e Otimização de Parâmetros"
   ]
  },
  {
   "cell_type": "markdown",
   "metadata": {},
   "source": [
    "Seguindo uma das estratégias apresentadas em aula, vamos experimentar com três algoritmos bastante utilizados para dados tabulares no sklearn. São eles:\n",
    " - Random Forest (RF)\n",
    " - Support Vector Classification (SVC)\n",
    " - Multi Layer Perceptron (MLP)"
   ]
  },
  {
   "cell_type": "code",
   "execution_count": 10,
   "metadata": {},
   "outputs": [],
   "source": [
    "rfc = RandomForestClassifier()\n",
    "svc = SVC()\n",
    "mlp = MLPClassifier()"
   ]
  },
  {
   "cell_type": "markdown",
   "metadata": {},
   "source": [
    "A seleção dos hiperparâmetros para cada modelo foi baseada na consideração de combinações que abrangem uma variedade de comportamentos do modelo, permitindo uma otimização adequada e robusta:\n",
    "\n",
    "- RandomForest (RF):  \n",
    "        - n_estimators: Os valores variam de árvores menores (10) a mais numerosas (200), explorando a capacidade do modelo de aprender com um conjunto diversificado de árvores.  \n",
    "        - max_depth: A variação inclui árvores mais rasas e mais profundas, bem como a opção de deixar a árvore crescer até que todas as folhas sejam puras (None).  \n",
    "        - min_samples_split e min_samples_leaf: Estes parâmetros ajudam a controlar o overfitting. Variam desde configurações que permitem divisões mais flexíveis até aquelas que requerem   mais amostras para divisões e folhas.  \n",
    "        - bootstrap: Com ambas as opções (True e False), estamos explorando tanto a amostragem com reposição quanto sem reposição.\n",
    "\n",
    "- Support Vector Classification (SVC):  \n",
    "        -C: Este é o parâmetro de regularização. Valores menores implicam em mais regularização e valores maiores em menos. Estamos explorando desde uma regularização alta (0.1) até baixa (10).  \n",
    "        - gamma: Controla a forma do limite de decisão. Os valores variam desde um limite mais flexível (1) até um mais rígido (0.001).  \n",
    "        - kernel: Apenas o 'rbf' foi escolhido, que é o kernel Radial Basis Function, comum e eficaz para muitos problemas.\n",
    "\n",
    "- Multi-Layer Perceptron (MLP):  \n",
    "        - hidden_layer_sizes: Exploramos redes desde uma única camada oculta até duas camadas, com diferentes quantidades de neurônios, para capturar diferentes capacidades de modelagem.  \n",
    "        - activation: Diferentes funções de ativação podem influenciar o comportamento e a convergência da rede.  \n",
    "        - solver: Diferentes solucionadores podem ter desempenho variável dependendo da natureza dos dados e da arquitetura da rede.  \n",
    "        - alpha: Controla a regularização L2, e estamos explorando desde uma regularização fraca até uma mais forte.  \n",
    "        - learning_rate: Diferentes estratégias de taxa de aprendizado podem afetar a velocidade e a estabilidade da convergência.\n",
    "\n",
    "No geral, a escolha desses hiperparâmetros visa cobrir uma ampla gama de comportamentos e configurações do modelo, garantindo que a otimização tenha uma boa chance de encontrar uma configuração que produza um desempenho ótimo para o conjunto de dados em questão. Consideramos a questão da regularização como uma das mais importantes dado o desbalanceamento da base em favor de dados de usuários do gênero masculino."
   ]
  },
  {
   "cell_type": "code",
   "execution_count": 11,
   "metadata": {},
   "outputs": [],
   "source": [
    "param_grid_rf = {\n",
    "    'n_estimators': [50, 100, 200, 250, 300, 500],\n",
    "    'max_depth': [None, 3, 5, 7, 10],\n",
    "    'min_samples_split': [2, 5, 10],\n",
    "    'min_samples_leaf': [1, 2, 4],\n",
    "    'bootstrap': [True, False]\n",
    "}\n",
    "\n",
    "param_grid_svc = {\n",
    "    'C': [0.1, 1, 10, 100],\n",
    "    'gamma': [1, 0.1, 0.01, 0.001],\n",
    "    'kernel': ['rbf'],\n",
    "    'probability': [True] # Para o AUC ser calculado corretamente\n",
    "}\n",
    "\n",
    "param_grid_mlp = {\n",
    "    'hidden_layer_sizes': [(20,), (50,), (50, 50), (100, 100), (100,), (200, 200)],\n",
    "    'activation': ['relu', 'tanh', 'logistic'],\n",
    "    'solver': ['adam', 'sgd', 'lbfgs'],\n",
    "    'alpha': [0.0001, 0.001, 0.01],\n",
    "    'learning_rate': ['constant', 'invscaling', 'adaptive']\n",
    "}"
   ]
  },
  {
   "cell_type": "markdown",
   "metadata": {},
   "source": [
    "## Bateria de Randomized Searches"
   ]
  },
  {
   "cell_type": "markdown",
   "metadata": {},
   "source": [
    "Vamos iniciar fazendo a busca pelos melhores hiper parâmetros de cada arquitetura de modelo com a classe RandomizedSearchCV do sklearn. Aqui, vamos observar os scores de AUC de crossvalidation para eleger a melhor versão de cada arquitetura.\n",
    "\n",
    " - Por que escolhemos AUC e não acurácia?  \n",
    " \n",
    "   \n",
    "Por conta do desbalanceamento do dataset, acurácia é uma das piores métricas que poderíamos escolher, dado que chutar apenas que todos os usuários são do gênero masculino por si só já traria uma performance alta. A escolha de AUC nos deixa menos sensível a esse desbalanceamento, nos focando na separação entre das classes como indicativo de boa performance."
   ]
  },
  {
   "cell_type": "markdown",
   "metadata": {},
   "source": [
    "### Random Forest"
   ]
  },
  {
   "cell_type": "code",
   "execution_count": 12,
   "metadata": {},
   "outputs": [],
   "source": [
    "search = RandomizedSearchCV(rfc, param_grid_rf, n_iter=200, scoring='roc_auc', n_jobs=4, cv=cv, random_state=seed_value)"
   ]
  },
  {
   "cell_type": "markdown",
   "metadata": {},
   "source": [
    "Executando a busca"
   ]
  },
  {
   "cell_type": "code",
   "execution_count": 13,
   "metadata": {},
   "outputs": [],
   "source": [
    "result_tree = search.fit(X_train, y_train)"
   ]
  },
  {
   "cell_type": "markdown",
   "metadata": {},
   "source": [
    "Resultado obtido"
   ]
  },
  {
   "cell_type": "code",
   "execution_count": 14,
   "metadata": {},
   "outputs": [
    {
     "name": "stdout",
     "output_type": "stream",
     "text": [
      "=========Random Search Results for Random Forest==========\n",
      "Best Score: 0.7406646064559295\n",
      "Best Hyperparameters: {'n_estimators': 100, 'min_samples_split': 10, 'min_samples_leaf': 4, 'max_depth': 7, 'bootstrap': True}\n"
     ]
    }
   ],
   "source": [
    "print('=========Random Search Results for Random Forest==========')\n",
    "print('Best Score: %s' % result_tree.best_score_)\n",
    "print('Best Hyperparameters: %s' % result_tree.best_params_)"
   ]
  },
  {
   "cell_type": "markdown",
   "metadata": {},
   "source": [
    "Notamos que uma depth pequena com um número alta de estimators funcionou bem. Não atingimos um valor muito alto de AUC, vamos ver se com técnicas mais sofistificadas posteriormente melhoramos isso."
   ]
  },
  {
   "cell_type": "markdown",
   "metadata": {},
   "source": [
    "### SVC"
   ]
  },
  {
   "cell_type": "code",
   "execution_count": 15,
   "metadata": {},
   "outputs": [],
   "source": [
    "search = RandomizedSearchCV(svc, param_grid_svc, n_iter=200, scoring='roc_auc', n_jobs=4, cv=cv, random_state=seed_value)"
   ]
  },
  {
   "cell_type": "markdown",
   "metadata": {},
   "source": [
    "Executando busca"
   ]
  },
  {
   "cell_type": "code",
   "execution_count": 16,
   "metadata": {},
   "outputs": [],
   "source": [
    "result_svc = search.fit(X_train, y_train)"
   ]
  },
  {
   "cell_type": "markdown",
   "metadata": {},
   "source": [
    "Resultado obtido"
   ]
  },
  {
   "cell_type": "code",
   "execution_count": 17,
   "metadata": {},
   "outputs": [
    {
     "name": "stdout",
     "output_type": "stream",
     "text": [
      "=========Random Search Results for SVC==========\n",
      "Best Score: 0.5\n",
      "Best Hyperparameters: {'probability': True, 'kernel': 'rbf', 'gamma': 1, 'C': 0.1}\n"
     ]
    }
   ],
   "source": [
    "print('=========Random Search Results for SVC==========')\n",
    "print('Best Score: %s' % result_svc.best_score_)\n",
    "print('Best Hyperparameters: %s' % result_svc.best_params_)"
   ]
  },
  {
   "cell_type": "markdown",
   "metadata": {},
   "source": [
    "O algortimo SVC não conseguiu produzir resultados satisfatórios, ficando com uma performance tão ruim quanto um chute. Na nossa opinião, isso pode estar bastante relacionado ao desbalanceamento da base e a não utilização da normalização por z-score, fazendo a variabilidade entre algumas colunas terrivelmente diferente."
   ]
  },
  {
   "cell_type": "markdown",
   "metadata": {},
   "source": [
    "### MLP"
   ]
  },
  {
   "cell_type": "code",
   "execution_count": 18,
   "metadata": {},
   "outputs": [],
   "source": [
    "search = RandomizedSearchCV(mlp, param_grid_mlp, n_iter=200, scoring='roc_auc', n_jobs=4, cv=cv, random_state=seed_value)"
   ]
  },
  {
   "cell_type": "markdown",
   "metadata": {},
   "source": [
    "Executando busca"
   ]
  },
  {
   "cell_type": "code",
   "execution_count": 19,
   "metadata": {},
   "outputs": [],
   "source": [
    "result_mlp = search.fit(X_train, y_train)"
   ]
  },
  {
   "cell_type": "markdown",
   "metadata": {},
   "source": [
    "Resultado obtido"
   ]
  },
  {
   "cell_type": "code",
   "execution_count": 20,
   "metadata": {},
   "outputs": [
    {
     "name": "stdout",
     "output_type": "stream",
     "text": [
      "=========Random Search Results for MLP==========\n",
      "Best Score: 0.6916784911115872\n",
      "Best Hyperparameters: {'solver': 'sgd', 'learning_rate': 'adaptive', 'hidden_layer_sizes': (200, 200), 'alpha': 0.0001, 'activation': 'logistic'}\n"
     ]
    }
   ],
   "source": [
    "print('=========Random Search Results for MLP==========')\n",
    "print('Best Score: %s' % result_mlp.best_score_)\n",
    "print('Best Hyperparameters: %s' % result_mlp.best_params_)"
   ]
  },
  {
   "cell_type": "markdown",
   "metadata": {},
   "source": [
    "## Comparando desempenho dos modelos "
   ]
  },
  {
   "cell_type": "markdown",
   "metadata": {},
   "source": [
    "Agora, vamos fazer uma comparação mais a fundo dos modelos escolhidos com a melhor configuração de parâmetros de cada um. Vamos, além disso, adicionar na jogada dois Ensembles:\n",
    " - Um comitê de Redes Neurais\n",
    " - Um ensemble via Gradient Boosting Trees\n",
    "\n",
    "Essas modelagens mais sofisticadas podem nos ajudar a conseguir métricas ainda melhores."
   ]
  },
  {
   "cell_type": "code",
   "execution_count": 21,
   "metadata": {},
   "outputs": [],
   "source": [
    "# Modelagens experimentadas previamente\n",
    "rfc = result_tree.best_estimator_\n",
    "svc = result_svc.best_estimator_\n",
    "mlp = result_mlp.best_estimator_\n",
    "# Ensembles\n",
    "mlp_2 = MLPClassifier(solver='lbfgs', alpha=1e-2, hidden_layer_sizes=(25,25), random_state=seed_value)\n",
    "b_mlp = BaggingClassifier(base_estimator=mlp_2, n_estimators=10, random_state=seed_value)\n",
    "gbt = GradientBoostingClassifier(\n",
    "    n_estimators=100,\n",
    "    learning_rate=0.1,\n",
    "    max_depth=5,\n",
    "    min_samples_split=70,\n",
    "    min_samples_leaf=20,\n",
    "    max_features='sqrt',\n",
    "    subsample=0.9,\n",
    "    random_state=seed_value\n",
    ")"
   ]
  },
  {
   "cell_type": "markdown",
   "metadata": {},
   "source": [
    "Preparando o ambiente para a experimentação dos modelos"
   ]
  },
  {
   "cell_type": "code",
   "execution_count": 22,
   "metadata": {},
   "outputs": [],
   "source": [
    "models = []\n",
    "models.append(('RandomForest', rfc))\n",
    "models.append(('SVC', svc))\n",
    "models.append(('MLP', mlp))\n",
    "models.append(('ComiteRede', b_mlp))\n",
    "models.append(('GradientBoostingTrees', gbt))\n",
    "\n",
    "results = []\n",
    "names = []\n",
    "\n",
    "scoring = 'roc_auc'"
   ]
  },
  {
   "cell_type": "markdown",
   "metadata": {},
   "source": [
    "### Primeiro, vamos analisar o desempenho médio dos modelos num contexto de crossvalidation"
   ]
  },
  {
   "cell_type": "code",
   "execution_count": 23,
   "metadata": {},
   "outputs": [
    {
     "name": "stdout",
     "output_type": "stream",
     "text": [
      "Desempenhos médio dos modelos:\n",
      "RandomForest: 0.729339 (0.064417)\n",
      "SVC: 0.500000 (0.000000)\n",
      "MLP: 0.685912 (0.058980)\n",
      "ComiteRede: 0.632940 (0.055576)\n",
      "GradientBoostingTrees: 0.698025 (0.072268)\n"
     ]
    }
   ],
   "source": [
    "print('Desempenhos médio dos modelos:')\n",
    "for name, model in models:\n",
    "\tcv_results = model_selection.cross_val_score(model, X_train, y_train, cv=10, scoring=scoring)\n",
    "\tresults.append(cv_results)\n",
    "\tnames.append(name)\n",
    "\tmsg = \"%s: %f (%f)\" % (name, cv_results.mean(), cv_results.std())\n",
    "\tprint(msg)"
   ]
  },
  {
   "cell_type": "markdown",
   "metadata": {},
   "source": [
    "### Teste de hipótese para diferenciar os modelos"
   ]
  },
  {
   "cell_type": "markdown",
   "metadata": {},
   "source": [
    "Agora, vamos fazer uma validação estatística para distinguir os resultados de cada modelo. Caso o p-valor do teste seja inferior a 0.05 podemos dizer que aqueles dois modelos possuem uma distribuição de resultados diferentes e, portanto, suas métricas são significativamente diferentes uma da outra."
   ]
  },
  {
   "cell_type": "code",
   "execution_count": 24,
   "metadata": {},
   "outputs": [
    {
     "name": "stdout",
     "output_type": "stream",
     "text": [
      "Comparacao RandomForest | SVC -> KruskalResult(statistic=16.30901287553647, pvalue=5.380741956062056e-05)\n",
      " Métricas diferem com relevância estatística? Sim\n",
      "\n",
      "Comparacao RandomForest | MLP -> KruskalResult(statistic=2.0628571428571405, pvalue=0.15092695006671242)\n",
      " Métricas diferem com relevância estatística? Não\n",
      "\n",
      "Comparacao RandomForest | ComiteRede -> KruskalResult(statistic=8.251428571428576, pvalue=0.004071994217732751)\n",
      " Métricas diferem com relevância estatística? Sim\n",
      "\n",
      "Comparacao RandomForest | GradientBoostingTrees -> KruskalResult(statistic=0.5714285714285694, pvalue=0.4496917979688917)\n",
      " Métricas diferem com relevância estatística? Não\n",
      "\n",
      "Comparacao SVC | MLP -> KruskalResult(statistic=16.30901287553647, pvalue=5.380741956062056e-05)\n",
      " Métricas diferem com relevância estatística? Sim\n",
      "\n",
      "Comparacao SVC | ComiteRede -> KruskalResult(statistic=16.30901287553647, pvalue=5.380741956062056e-05)\n",
      " Métricas diferem com relevância estatística? Sim\n",
      "\n",
      "Comparacao SVC | GradientBoostingTrees -> KruskalResult(statistic=16.30901287553647, pvalue=5.380741956062056e-05)\n",
      " Métricas diferem com relevância estatística? Sim\n",
      "\n",
      "Comparacao MLP | ComiteRede -> KruskalResult(statistic=4.480000000000004, pvalue=0.03429372103649282)\n",
      " Métricas diferem com relevância estatística? Sim\n",
      "\n",
      "Comparacao MLP | GradientBoostingTrees -> KruskalResult(statistic=0.28000000000000114, pvalue=0.5967012167293555)\n",
      " Métricas diferem com relevância estatística? Não\n",
      "\n",
      "Comparacao ComiteRede | GradientBoostingTrees -> KruskalResult(statistic=2.519999999999996, pvalue=0.112410584655364)\n",
      " Métricas diferem com relevância estatística? Não\n",
      "\n"
     ]
    }
   ],
   "source": [
    "for i in range(len(models)):\n",
    "    for j in range(i+1, len(models)):\n",
    "        comparison_string = f\"Comparacao {names[i]} | {names[j]} -> \"\n",
    "        comparacao_estatistica = stats.kruskal(results[i], results[j])\n",
    "        significativo = \"Sim\" if comparacao_estatistica[1] < 0.05 else \"Não\"\n",
    "        print(comparison_string + str(comparacao_estatistica))\n",
    "        print(f\" Métricas diferem com relevância estatística? {significativo}\")\n",
    "        print()"
   ]
  },
  {
   "cell_type": "markdown",
   "metadata": {},
   "source": [
    "Representação visual da diferença entre os modelos."
   ]
  },
  {
   "cell_type": "code",
   "execution_count": 25,
   "metadata": {},
   "outputs": [
    {
     "data": {
      "image/png": "[encoded data removed]",
      "text/plain": [
       "<Figure size 432x288 with 1 Axes>"
      ]
     },
     "metadata": {
      "needs_background": "light"
     },
     "output_type": "display_data"
    }
   ],
   "source": [
    "fig = plt.figure()\n",
    "fig.suptitle('Algorithm Comparison')\n",
    "ax = fig.add_subplot(111)\n",
    "plt.boxplot(results)\n",
    "ax.set_xticklabels(names)\n",
    "plt.show()"
   ]
  },
  {
   "cell_type": "markdown",
   "metadata": {},
   "source": [
    "### Resultados finais de cada arquitetura"
   ]
  },
  {
   "cell_type": "code",
   "execution_count": 26,
   "metadata": {},
   "outputs": [],
   "source": [
    "from sklearn.metrics import roc_auc_score"
   ]
  },
  {
   "cell_type": "code",
   "execution_count": 27,
   "metadata": {},
   "outputs": [
    {
     "name": "stdout",
     "output_type": "stream",
     "text": [
      "RandomForest\n",
      "AUC RandomForest: Treinamento 0.9174418345649779\n",
      "AUC RandomForest: Teste 0.7646270396270396\n",
      "Classification report:\n",
      "               precision    recall  f1-score   support\n",
      "\n",
      "           1       0.92      0.99      0.95       715\n",
      "           2       0.58      0.19      0.29        72\n",
      "\n",
      "    accuracy                           0.91       787\n",
      "   macro avg       0.75      0.59      0.62       787\n",
      "weighted avg       0.89      0.91      0.89       787\n",
      "\n"
     ]
    },
    {
     "data": {
      "image/png": "[encoded data removed]",
      "text/plain": [
       "<Figure size 576x432 with 2 Axes>"
      ]
     },
     "metadata": {
      "needs_background": "light"
     },
     "output_type": "display_data"
    },
    {
     "name": "stdout",
     "output_type": "stream",
     "text": [
      "\n",
      "\n",
      "SVC\n",
      "AUC SVC: Treinamento 0.0\n",
      "AUC SVC: Teste 0.5\n",
      "Classification report:\n",
      "               precision    recall  f1-score   support\n",
      "\n",
      "           1       0.91      1.00      0.95       715\n",
      "           2       0.00      0.00      0.00        72\n",
      "\n",
      "    accuracy                           0.91       787\n",
      "   macro avg       0.45      0.50      0.48       787\n",
      "weighted avg       0.83      0.91      0.86       787\n",
      "\n"
     ]
    },
    {
     "data": {
      "image/png": "[encoded data removed]",
      "text/plain": [
       "<Figure size 576x432 with 2 Axes>"
      ]
     },
     "metadata": {
      "needs_background": "light"
     },
     "output_type": "display_data"
    },
    {
     "name": "stdout",
     "output_type": "stream",
     "text": [
      "\n",
      "\n",
      "MLP\n",
      "AUC MLP: Treinamento 0.6878307920848062\n",
      "AUC MLP: Teste 0.7182206682206682\n",
      "Classification report:\n",
      "               precision    recall  f1-score   support\n",
      "\n",
      "           1       0.91      1.00      0.95       715\n",
      "           2       0.00      0.00      0.00        72\n",
      "\n",
      "    accuracy                           0.91       787\n",
      "   macro avg       0.45      0.50      0.48       787\n",
      "weighted avg       0.83      0.91      0.86       787\n",
      "\n"
     ]
    },
    {
     "data": {
      "image/png": "[encoded data removed]",
      "text/plain": [
       "<Figure size 576x432 with 2 Axes>"
      ]
     },
     "metadata": {
      "needs_background": "light"
     },
     "output_type": "display_data"
    },
    {
     "name": "stdout",
     "output_type": "stream",
     "text": [
      "\n",
      "\n",
      "ComiteRede\n",
      "AUC ComiteRede: Treinamento 0.6325969738039227\n",
      "AUC ComiteRede: Teste 0.6210470085470086\n",
      "Classification report:\n",
      "               precision    recall  f1-score   support\n",
      "\n",
      "           1       0.91      1.00      0.95       715\n",
      "           2       0.00      0.00      0.00        72\n",
      "\n",
      "    accuracy                           0.91       787\n",
      "   macro avg       0.45      0.50      0.48       787\n",
      "weighted avg       0.83      0.91      0.86       787\n",
      "\n"
     ]
    },
    {
     "data": {
      "image/png": "[encoded data removed]",
      "text/plain": [
       "<Figure size 576x432 with 2 Axes>"
      ]
     },
     "metadata": {
      "needs_background": "light"
     },
     "output_type": "display_data"
    },
    {
     "name": "stdout",
     "output_type": "stream",
     "text": [
      "\n",
      "\n",
      "GradientBoostingTrees\n",
      "AUC GradientBoostingTrees: Treinamento 0.9654991030383612\n",
      "AUC GradientBoostingTrees: Teste 0.7706682206682206\n",
      "Classification report:\n",
      "               precision    recall  f1-score   support\n",
      "\n",
      "           1       0.93      0.97      0.95       715\n",
      "           2       0.47      0.24      0.31        72\n",
      "\n",
      "    accuracy                           0.91       787\n",
      "   macro avg       0.70      0.60      0.63       787\n",
      "weighted avg       0.89      0.91      0.89       787\n",
      "\n"
     ]
    },
    {
     "data": {
      "image/png": "[encoded data removed]",
      "text/plain": [
       "<Figure size 576x432 with 2 Axes>"
      ]
     },
     "metadata": {
      "needs_background": "light"
     },
     "output_type": "display_data"
    },
    {
     "name": "stdout",
     "output_type": "stream",
     "text": [
      "\n",
      "\n"
     ]
    }
   ],
   "source": [
    "for name, model in models:\n",
    "    # Treinamento\n",
    "    model.fit(X_train, y_train)\n",
    "    \n",
    "    # Predição\n",
    "    Y_test_prediction = model.predict(X_test)\n",
    "\n",
    "    print(name)\n",
    "    \n",
    "    # Apresentação de resultados\n",
    "    is_train = True\n",
    "    for split in [(X_train, y_train), (X_test, y_test)]:\n",
    "        probs = model.predict_proba(split[0])[:, 1]\n",
    "        auc_roc = roc_auc_score(split[1], probs)\n",
    "        if is_train:\n",
    "            print(f\"AUC {name}: Treinamento\", auc_roc)\n",
    "            is_train=False\n",
    "        else:\n",
    "            print(f\"AUC {name}: Teste\", auc_roc)\n",
    "\n",
    "    print(\"Classification report:\\n\", classification_report(y_test, Y_test_prediction))\n",
    "    \n",
    "    # Confusion matrix heatmap\n",
    "    plt.figure(figsize=(8, 6))\n",
    "    sns.heatmap(confusion_matrix(y_test, Y_test_prediction), annot=True, fmt=\"d\", cmap=\"Blues\")\n",
    "    plt.title(f\"Confusion Matrix for {name}\")\n",
    "    plt.ylabel('True Label')\n",
    "    plt.xlabel('Predicted Label')\n",
    "    plt.show()\n",
    "    print(\"\\n\")"
   ]
  },
  {
   "cell_type": "markdown",
   "metadata": {},
   "source": [
    "# Conclusão"
   ]
  },
  {
   "cell_type": "markdown",
   "metadata": {},
   "source": [
    "Em suma, a análise foi realizada para cinco diferentes modelos de machine learning: RandomForest, SVC, MLP, ComiteRede e GradientBoostingTrees, com foco na classificação entre 'homem' (male)(classe 1) e 'mulher' (female) (classe 2). O principal que aprendemos com cada modelo foi:  \n",
    "\n",
    "- RandomForest:\n",
    "    - Mostrou um desempenho superior no conjunto de treinamento com AUC de aproximadamente 0.92. Porém, sua performance no conjunto de teste foi de 0.76, indicando uma possível overfit.  \n",
    "    - A acurácia geral foi de 0.91, com uma excelente precisão na predição de 'homens' (0.92), mas uma precisão moderada para 'mulheres' (0.58).  \n",
    "    - No desempenho médio obtido por validação cruzada, o modelo obteve 0.7293 com um desvio padrão de 0.0644.  \n",
    "\n",
    " - SVC:\n",
    "    - Não conseguiu aprender os padrões no conjunto de treinamento, apresentando AUC de 0.5, e um desempenho medíocre no conjunto de teste com AUC de 0.5.  \n",
    "    - Não conseguiu prever corretamente 'mulheres', indicando uma precisão e recall de 0 para essa classe.  \n",
    "    - O desempenho médio por validação cruzada foi de 0.5, com desvio padrão de 0. Simplesmente um overfit pesado.\n",
    "\n",
    " - MLP:\n",
    "    - Obteve um desempenho moderado no conjunto de treinamento com AUC de aproximadamente 0.69 e uma performance similar no conjunto de teste com AUC de 0.72.  \n",
    "    - Assim como o SVC, falhou em prever corretamente 'mulheres'.  \n",
    "    - O desempenho médio por validação cruzada foi de 0.6859 com um desvio padrão de 0.0590.\n",
    "\n",
    " - ComiteRede:\n",
    "    - A performance no conjunto de treinamento foi moderada com AUC de 0.63 e no conjunto de teste foi ligeiramente inferior com AUC de 0.62.  \n",
    "    - Também falhou em prever corretamente 'mulheres'.  \n",
    "    - O desempenho médio por validação cruzada foi de 0.6329 com um desvio padrão de 0.0556.\n",
    "\n",
    " - GradientBoostingTrees:\n",
    "    - Apresentou um excelente desempenho no conjunto de treinamento com AUC de aproximadamente 0.97, mas uma performance no conjunto de teste de 0.77, indicando, assim como RandomForest, uma possível overfit.  \n",
    "    - A acurácia geral foi de 0.91, com uma excelente precisão na predição de 'homens' (0.93) e uma precisão aceitável para 'mulheres' (0.47).  \n",
    "    - O desempenho médio por validação cruzada foi de 0.6980 com um desvio padrão de 0.0723."
   ]
  },
  {
   "cell_type": "markdown",
   "metadata": {},
   "source": [
    "**Com base no desempenho médio obtido pela validação cruzada, o modelo RandomForest se firma como o modelo mais promissor, com um score de 0.72. O GradientBoostingTrees também apresenta um desempenho competitivo com score de 0.6980.**"
   ]
  }
 ],
 "metadata": {
  "kernelspec": {
   "display_name": "base",
   "language": "python",
   "name": "python3"
  },
  "language_info": {
   "codemirror_mode": {
    "name": "ipython",
    "version": 3
   },
   "file_extension": ".py",
   "mimetype": "text/x-python",
   "name": "python",
   "nbconvert_exporter": "python",
   "pygments_lexer": "ipython3",
   "version": "3.8.8"
  },
  "orig_nbformat": 4
 },
 "nbformat": 4,
 "nbformat_minor": 2
}
