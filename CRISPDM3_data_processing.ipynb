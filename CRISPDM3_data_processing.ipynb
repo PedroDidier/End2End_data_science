{
 "cells": [
  {
   "cell_type": "markdown",
   "metadata": {},
   "source": [
    "# Entrega 3: Preparação dos dados"
   ]
  },
  {
   "cell_type": "markdown",
   "metadata": {},
   "source": [
    "Nesse notebook/relatório iremos realizar e justificar o processo em cada etapa da preparação dos dados da base a qual nosso grupo ficou responsável. Para assim, na próxima entrega, testar modelos de machine learning de classificação."
   ]
  },
  {
   "cell_type": "markdown",
   "metadata": {},
   "source": [
    "### Grupo\n",
    " - Nilo Bemfica (nbmcd)\n",
    " - Pedro Didier (pdm)\n",
    " - Pedro Tenório (ptl)"
   ]
  },
  {
   "cell_type": "markdown",
   "metadata": {},
   "source": [
    "# Imports e Loads"
   ]
  },
  {
   "cell_type": "code",
   "execution_count": 1,
   "metadata": {},
   "outputs": [
    {
     "name": "stderr",
     "output_type": "stream",
     "text": [
      "c:\\Users\\Pedro\\anaconda3\\lib\\site-packages\\scipy\\__init__.py:138: UserWarning: A NumPy version >=1.16.5 and <1.23.0 is required for this version of SciPy (detected version 1.24.4)\n",
      "  warnings.warn(f\"A NumPy version >={np_minversion} and <{np_maxversion} is required for this version of \"\n"
     ]
    }
   ],
   "source": [
    "import pandas as pd\n",
    "import numpy as np\n",
    "import matplotlib.pyplot as plt\n",
    "import seaborn as sns\n",
    "import missingno\n",
    "%matplotlib inline"
   ]
  },
  {
   "cell_type": "code",
   "execution_count": 2,
   "metadata": {},
   "outputs": [],
   "source": [
    "df = pd.read_csv(\"data.csv\")"
   ]
  },
  {
   "cell_type": "markdown",
   "metadata": {},
   "source": [
    "# Visualizando as features"
   ]
  },
  {
   "cell_type": "markdown",
   "metadata": {},
   "source": [
    "Dicionário de colunas:\n",
    "\n",
    "gender: 0 (unknown), 1 (male), 2 (female)  \n",
    "C_api: gender extracted from WikiMedia API, codes as female / male / unknown  \n",
    "C_man: gender extracted from content coding, coded as 1 (male) / 2 (female) / 3 (unknown)  \n",
    "E_NEds: I index of stratum IJ (0,1,2,3)  \n",
    "E_Bpag: J index of stratum IJ (0,1,2,3)  \n",
    "firstDay: first edition in the Spanish Wikipedia (YYYYMMDDHHMMSS)  \n",
    "lastDay: last edition in the Spanish Wikipedia (YYYYMMDDHHMMSS)  \n",
    "NEds: total number of editions  \n",
    "NDays: number of days (lastDay-firstDay+1)  \n",
    "NActDays: number of days with editions  \n",
    "NPages: number of different pages edited  \n",
    "NPcreated: number of pages created  \n",
    "pagesWomen: number of edits in pages related to women  \n",
    "wikiprojWomen: number of edits in WikiProjects related to women  \n",
    "ns_user: number of edits in namespace user  \n",
    "ns_wikipedia: number of edits in namespace wikipedia  \n",
    "ns_talk: number of edits in namespace talk  \n",
    "ns_userTalk: number of edits in namespace user talk  \n",
    "ns_content: number of edits in content pages  \n",
    "weightIJ: correcting weight for stratum IJ  \n",
    "NIJ: number of elements in stratum IJ"
   ]
  },
  {
   "cell_type": "markdown",
   "metadata": {},
   "source": [
    "* É importante manter em mente esse dicionário pois ele vai guiar o processamento da base."
   ]
  },
  {
   "cell_type": "code",
   "execution_count": 3,
   "metadata": {},
   "outputs": [
    {
     "name": "stdout",
     "output_type": "stream",
     "text": [
      "<class 'pandas.core.frame.DataFrame'>\n",
      "RangeIndex: 4746 entries, 0 to 4745\n",
      "Data columns (total 21 columns):\n",
      " #   Column         Non-Null Count  Dtype  \n",
      "---  ------         --------------  -----  \n",
      " 0   gender         4746 non-null   int64  \n",
      " 1   C_api          4746 non-null   object \n",
      " 2   C_man          4746 non-null   int64  \n",
      " 3   E_NEds         4746 non-null   int64  \n",
      " 4   E_Bpag         4746 non-null   int64  \n",
      " 5   firstDay       4746 non-null   int64  \n",
      " 6   lastDay        4746 non-null   int64  \n",
      " 7   NEds           4746 non-null   int64  \n",
      " 8   NDays          4746 non-null   int64  \n",
      " 9   NActDays       4746 non-null   int64  \n",
      " 10  NPages         4746 non-null   int64  \n",
      " 11  NPcreated      4746 non-null   int64  \n",
      " 12  pagesWomen     4746 non-null   int64  \n",
      " 13  wikiprojWomen  4746 non-null   int64  \n",
      " 14  ns_user        4746 non-null   int64  \n",
      " 15  ns_wikipedia   4746 non-null   int64  \n",
      " 16  ns_talk        4746 non-null   int64  \n",
      " 17  ns_userTalk    4746 non-null   int64  \n",
      " 18  ns_content     4746 non-null   int64  \n",
      " 19  weightIJ       4746 non-null   float64\n",
      " 20  NIJ            4746 non-null   int64  \n",
      "dtypes: float64(1), int64(19), object(1)\n",
      "memory usage: 778.8+ KB\n"
     ]
    }
   ],
   "source": [
    "df.info()"
   ]
  },
  {
   "cell_type": "code",
   "execution_count": 4,
   "metadata": {},
   "outputs": [
    {
     "data": {
      "text/html": [
       "<div>\n",
       "<style scoped>\n",
       "    .dataframe tbody tr th:only-of-type {\n",
       "        vertical-align: middle;\n",
       "    }\n",
       "\n",
       "    .dataframe tbody tr th {\n",
       "        vertical-align: top;\n",
       "    }\n",
       "\n",
       "    .dataframe thead th {\n",
       "        text-align: right;\n",
       "    }\n",
       "</style>\n",
       "<table border=\"1\" class=\"dataframe\">\n",
       "  <thead>\n",
       "    <tr style=\"text-align: right;\">\n",
       "      <th></th>\n",
       "      <th>gender</th>\n",
       "      <th>C_api</th>\n",
       "      <th>C_man</th>\n",
       "      <th>E_NEds</th>\n",
       "      <th>E_Bpag</th>\n",
       "      <th>firstDay</th>\n",
       "      <th>lastDay</th>\n",
       "      <th>NEds</th>\n",
       "      <th>NDays</th>\n",
       "      <th>NActDays</th>\n",
       "      <th>...</th>\n",
       "      <th>NPcreated</th>\n",
       "      <th>pagesWomen</th>\n",
       "      <th>wikiprojWomen</th>\n",
       "      <th>ns_user</th>\n",
       "      <th>ns_wikipedia</th>\n",
       "      <th>ns_talk</th>\n",
       "      <th>ns_userTalk</th>\n",
       "      <th>ns_content</th>\n",
       "      <th>weightIJ</th>\n",
       "      <th>NIJ</th>\n",
       "    </tr>\n",
       "  </thead>\n",
       "  <tbody>\n",
       "    <tr>\n",
       "      <th>0</th>\n",
       "      <td>1</td>\n",
       "      <td>male</td>\n",
       "      <td>1</td>\n",
       "      <td>2</td>\n",
       "      <td>2</td>\n",
       "      <td>20170527205915</td>\n",
       "      <td>20170721044501</td>\n",
       "      <td>543</td>\n",
       "      <td>56</td>\n",
       "      <td>43</td>\n",
       "      <td>...</td>\n",
       "      <td>4</td>\n",
       "      <td>0</td>\n",
       "      <td>0</td>\n",
       "      <td>91</td>\n",
       "      <td>28</td>\n",
       "      <td>6</td>\n",
       "      <td>76</td>\n",
       "      <td>324</td>\n",
       "      <td>0.915024</td>\n",
       "      <td>978</td>\n",
       "    </tr>\n",
       "    <tr>\n",
       "      <th>1</th>\n",
       "      <td>0</td>\n",
       "      <td>unknown</td>\n",
       "      <td>3</td>\n",
       "      <td>3</td>\n",
       "      <td>1</td>\n",
       "      <td>20110301072441</td>\n",
       "      <td>20170731213735</td>\n",
       "      <td>2764</td>\n",
       "      <td>2345</td>\n",
       "      <td>514</td>\n",
       "      <td>...</td>\n",
       "      <td>7</td>\n",
       "      <td>0</td>\n",
       "      <td>0</td>\n",
       "      <td>100</td>\n",
       "      <td>249</td>\n",
       "      <td>183</td>\n",
       "      <td>646</td>\n",
       "      <td>1526</td>\n",
       "      <td>0.661673</td>\n",
       "      <td>477</td>\n",
       "    </tr>\n",
       "    <tr>\n",
       "      <th>2</th>\n",
       "      <td>1</td>\n",
       "      <td>male</td>\n",
       "      <td>1</td>\n",
       "      <td>0</td>\n",
       "      <td>2</td>\n",
       "      <td>20060907204302</td>\n",
       "      <td>20140911191722</td>\n",
       "      <td>57</td>\n",
       "      <td>2927</td>\n",
       "      <td>25</td>\n",
       "      <td>...</td>\n",
       "      <td>0</td>\n",
       "      <td>0</td>\n",
       "      <td>0</td>\n",
       "      <td>3</td>\n",
       "      <td>0</td>\n",
       "      <td>1</td>\n",
       "      <td>3</td>\n",
       "      <td>49</td>\n",
       "      <td>0.800528</td>\n",
       "      <td>664</td>\n",
       "    </tr>\n",
       "    <tr>\n",
       "      <th>3</th>\n",
       "      <td>1</td>\n",
       "      <td>male</td>\n",
       "      <td>1</td>\n",
       "      <td>1</td>\n",
       "      <td>2</td>\n",
       "      <td>20121003144916</td>\n",
       "      <td>20121208180528</td>\n",
       "      <td>104</td>\n",
       "      <td>67</td>\n",
       "      <td>5</td>\n",
       "      <td>...</td>\n",
       "      <td>2</td>\n",
       "      <td>0</td>\n",
       "      <td>0</td>\n",
       "      <td>20</td>\n",
       "      <td>1</td>\n",
       "      <td>2</td>\n",
       "      <td>2</td>\n",
       "      <td>78</td>\n",
       "      <td>1.027717</td>\n",
       "      <td>841</td>\n",
       "    </tr>\n",
       "    <tr>\n",
       "      <th>4</th>\n",
       "      <td>0</td>\n",
       "      <td>unknown</td>\n",
       "      <td>3</td>\n",
       "      <td>1</td>\n",
       "      <td>1</td>\n",
       "      <td>20070311125035</td>\n",
       "      <td>20141106121057</td>\n",
       "      <td>184</td>\n",
       "      <td>2798</td>\n",
       "      <td>27</td>\n",
       "      <td>...</td>\n",
       "      <td>0</td>\n",
       "      <td>0</td>\n",
       "      <td>0</td>\n",
       "      <td>26</td>\n",
       "      <td>10</td>\n",
       "      <td>5</td>\n",
       "      <td>24</td>\n",
       "      <td>112</td>\n",
       "      <td>0.997535</td>\n",
       "      <td>994</td>\n",
       "    </tr>\n",
       "  </tbody>\n",
       "</table>\n",
       "<p>5 rows × 21 columns</p>\n",
       "</div>"
      ],
      "text/plain": [
       "   gender    C_api  C_man  E_NEds  E_Bpag        firstDay         lastDay  \\\n",
       "0       1     male      1       2       2  20170527205915  20170721044501   \n",
       "1       0  unknown      3       3       1  20110301072441  20170731213735   \n",
       "2       1     male      1       0       2  20060907204302  20140911191722   \n",
       "3       1     male      1       1       2  20121003144916  20121208180528   \n",
       "4       0  unknown      3       1       1  20070311125035  20141106121057   \n",
       "\n",
       "   NEds  NDays  NActDays  ...  NPcreated  pagesWomen  wikiprojWomen  ns_user  \\\n",
       "0   543     56        43  ...          4           0              0       91   \n",
       "1  2764   2345       514  ...          7           0              0      100   \n",
       "2    57   2927        25  ...          0           0              0        3   \n",
       "3   104     67         5  ...          2           0              0       20   \n",
       "4   184   2798        27  ...          0           0              0       26   \n",
       "\n",
       "   ns_wikipedia  ns_talk  ns_userTalk  ns_content  weightIJ  NIJ  \n",
       "0            28        6           76         324  0.915024  978  \n",
       "1           249      183          646        1526  0.661673  477  \n",
       "2             0        1            3          49  0.800528  664  \n",
       "3             1        2            2          78  1.027717  841  \n",
       "4            10        5           24         112  0.997535  994  \n",
       "\n",
       "[5 rows x 21 columns]"
      ]
     },
     "execution_count": 4,
     "metadata": {},
     "output_type": "execute_result"
    }
   ],
   "source": [
    "df.head()"
   ]
  },
  {
   "cell_type": "markdown",
   "metadata": {},
   "source": [
    "# Preparação dos Dados"
   ]
  },
  {
   "cell_type": "markdown",
   "metadata": {},
   "source": [
    "## Checando valores nulos e linhas duplicadas"
   ]
  },
  {
   "cell_type": "markdown",
   "metadata": {},
   "source": [
    "Essa etapa foi realizada durante o EDA, mas é essencial na parte de preparação dos dados. Dito isso, nosso dataset tem 0 valores nulos e 0 linhas duplicadas."
   ]
  },
  {
   "cell_type": "code",
   "execution_count": 5,
   "metadata": {},
   "outputs": [
    {
     "name": "stdout",
     "output_type": "stream",
     "text": [
      "No null entries found\n"
     ]
    }
   ],
   "source": [
    "# generate preview of entries with null values\n",
    "if df.isnull().any(axis=None):\n",
    "    print(\"\\nPreview of data with null values:\\nxxxxxxxxxxxxx\")\n",
    "    print(df[df.isnull().any(axis=1)].head(3))\n",
    "    missingno.matrix(df)\n",
    "    plt.show()\n",
    "else:\n",
    "    print(\"No null entries found\")"
   ]
  },
  {
   "cell_type": "code",
   "execution_count": 6,
   "metadata": {},
   "outputs": [
    {
     "name": "stdout",
     "output_type": "stream",
     "text": [
      "No duplicated entries found\n"
     ]
    }
   ],
   "source": [
    "# generate count statistics of duplicate entries\n",
    "if len(df[df.duplicated()]) > 0:\n",
    "    print(\"No. of duplicated entries: \", len(df[df.duplicated()]))\n",
    "    print(df[df.duplicated(keep=False)].sort_values(by=list(df.columns)).head())\n",
    "else:\n",
    "    print(\"No duplicated entries found\")"
   ]
  },
  {
   "cell_type": "markdown",
   "metadata": {},
   "source": [
    "## Visão geral das features"
   ]
  },
  {
   "cell_type": "markdown",
   "metadata": {},
   "source": [
    "Com base no que foi pontuado no relatório de EDA, temos: \n",
    "\n",
    " - gender: Codificada conforme mencionado (0 para desconhecido, 1 para masculino e 2 para feminino).\n",
    " - C_api: Esta coluna possui valores de gênero extraídos da API do WikiMedia.\n",
    " - C_man: Esta coluna possui valores de gênero extraídos da codificação de conteúdo.\n",
    " - E_NEds e E_Bpag: São índices de estrato.\n",
    " - firstDay e lastDay: Representam datas em formato YYYYMMDDHHMMSS.\n",
    " - Várias colunas como NEds, NDays, NActDays, etc.: Representam diferentes métricas relacionadas às edições feitas no Wikipedia.\n",
    " - weightIJ: É um peso corretivo para o estrato IJ.\n",
    " - NIJ: É o número de elementos no estrato IJ."
   ]
  },
  {
   "cell_type": "markdown",
   "metadata": {},
   "source": [
    "## Definindo um tratamento proposto para cada coluna:"
   ]
  },
  {
   "cell_type": "markdown",
   "metadata": {},
   "source": [
    " - *gender*: Manter do jeito que está\n",
    " - *C_api*: Converter em códigos numéricos consistentes com a coluna gender (0 para desconhecido, 1 para masculino, 2 para feminino).\n",
    " - *C_man*: Para manter a consistência com a coluna gender, vamos reajustar os códigos para (0, 1, 2) em vez de (1, 2, 3).\n",
    "\n",
    "Vale a pena constatar que provavelmente para o modelo só usaremos a coluna gender como label e descartaremos *C_api* e *C_man*.\n",
    "\n",
    " - *E_NEds* e *E_Bpag*: Estas são colunas categóricas de estratificação com base em outras features.\n",
    " - *firstDay* e *lastDay*: Assim como no EDA, estas colunas serão convertidas para o formato de data padrão do Python (datetime) para facilitar cálculos posteriores.\n",
    " - *NEds*, *NDays*, *NActDays*, *NPages*, *NPcreated*, *pagesWomen*, *wikiprojWomen*, *ns_user*, *ns_wikipedia*, *ns_talk*, *ns_userTalk*, *ns_content*: Estas são colunas numéricas relacionadas às edições. Na etapa de EDA percebemos muitos outliers. Vamos aderessar isso agora.\n",
    " - *weightIJ*: Esta é uma coluna numérica, mas que representa um peso.\n",
    " - *NIJ*: Também é uma coluna numérica, mas que representa um índice."
   ]
  },
  {
   "cell_type": "markdown",
   "metadata": {},
   "source": [
    "## A situação dos outliers nas colunas numéricas e como vamos tratá-los"
   ]
  },
  {
   "cell_type": "markdown",
   "metadata": {},
   "source": [
    "Vamos olhar novamente o describe do dataset, focando nas colunas numéricas."
   ]
  },
  {
   "cell_type": "code",
   "execution_count": 7,
   "metadata": {},
   "outputs": [
    {
     "data": {
      "text/html": [
       "<div>\n",
       "<style scoped>\n",
       "    .dataframe tbody tr th:only-of-type {\n",
       "        vertical-align: middle;\n",
       "    }\n",
       "\n",
       "    .dataframe tbody tr th {\n",
       "        vertical-align: top;\n",
       "    }\n",
       "\n",
       "    .dataframe thead th {\n",
       "        text-align: right;\n",
       "    }\n",
       "</style>\n",
       "<table border=\"1\" class=\"dataframe\">\n",
       "  <thead>\n",
       "    <tr style=\"text-align: right;\">\n",
       "      <th></th>\n",
       "      <th>NEds</th>\n",
       "      <th>NDays</th>\n",
       "      <th>NActDays</th>\n",
       "      <th>NPages</th>\n",
       "      <th>NPcreated</th>\n",
       "      <th>pagesWomen</th>\n",
       "      <th>wikiprojWomen</th>\n",
       "      <th>ns_user</th>\n",
       "      <th>ns_wikipedia</th>\n",
       "      <th>ns_talk</th>\n",
       "      <th>ns_userTalk</th>\n",
       "      <th>ns_content</th>\n",
       "    </tr>\n",
       "  </thead>\n",
       "  <tbody>\n",
       "    <tr>\n",
       "      <th>count</th>\n",
       "      <td>4746.000000</td>\n",
       "      <td>4746.000000</td>\n",
       "      <td>4746.000000</td>\n",
       "      <td>4746.000000</td>\n",
       "      <td>4746.000000</td>\n",
       "      <td>4746.000000</td>\n",
       "      <td>4746.000000</td>\n",
       "      <td>4746.000000</td>\n",
       "      <td>4746.000000</td>\n",
       "      <td>4746.000000</td>\n",
       "      <td>4746.000000</td>\n",
       "      <td>4746.000000</td>\n",
       "    </tr>\n",
       "    <tr>\n",
       "      <th>mean</th>\n",
       "      <td>2029.969448</td>\n",
       "      <td>2036.607880</td>\n",
       "      <td>183.162663</td>\n",
       "      <td>689.451960</td>\n",
       "      <td>43.479140</td>\n",
       "      <td>0.438896</td>\n",
       "      <td>0.439949</td>\n",
       "      <td>74.372946</td>\n",
       "      <td>74.368310</td>\n",
       "      <td>49.947745</td>\n",
       "      <td>96.081753</td>\n",
       "      <td>1521.886641</td>\n",
       "    </tr>\n",
       "    <tr>\n",
       "      <th>std</th>\n",
       "      <td>7793.300833</td>\n",
       "      <td>1336.119914</td>\n",
       "      <td>374.034481</td>\n",
       "      <td>3355.302483</td>\n",
       "      <td>297.395507</td>\n",
       "      <td>5.327440</td>\n",
       "      <td>17.832244</td>\n",
       "      <td>246.407233</td>\n",
       "      <td>560.782479</td>\n",
       "      <td>215.554281</td>\n",
       "      <td>545.025818</td>\n",
       "      <td>6099.009235</td>\n",
       "    </tr>\n",
       "    <tr>\n",
       "      <th>min</th>\n",
       "      <td>50.000000</td>\n",
       "      <td>1.000000</td>\n",
       "      <td>1.000000</td>\n",
       "      <td>1.000000</td>\n",
       "      <td>0.000000</td>\n",
       "      <td>0.000000</td>\n",
       "      <td>0.000000</td>\n",
       "      <td>1.000000</td>\n",
       "      <td>0.000000</td>\n",
       "      <td>0.000000</td>\n",
       "      <td>0.000000</td>\n",
       "      <td>0.000000</td>\n",
       "    </tr>\n",
       "    <tr>\n",
       "      <th>25%</th>\n",
       "      <td>95.000000</td>\n",
       "      <td>835.250000</td>\n",
       "      <td>24.000000</td>\n",
       "      <td>29.000000</td>\n",
       "      <td>1.000000</td>\n",
       "      <td>0.000000</td>\n",
       "      <td>0.000000</td>\n",
       "      <td>4.000000</td>\n",
       "      <td>0.000000</td>\n",
       "      <td>0.000000</td>\n",
       "      <td>1.000000</td>\n",
       "      <td>61.000000</td>\n",
       "    </tr>\n",
       "    <tr>\n",
       "      <th>50%</th>\n",
       "      <td>218.000000</td>\n",
       "      <td>2035.500000</td>\n",
       "      <td>53.000000</td>\n",
       "      <td>68.000000</td>\n",
       "      <td>4.000000</td>\n",
       "      <td>0.000000</td>\n",
       "      <td>0.000000</td>\n",
       "      <td>14.000000</td>\n",
       "      <td>1.000000</td>\n",
       "      <td>4.000000</td>\n",
       "      <td>5.000000</td>\n",
       "      <td>151.000000</td>\n",
       "    </tr>\n",
       "    <tr>\n",
       "      <th>75%</th>\n",
       "      <td>757.750000</td>\n",
       "      <td>3146.500000</td>\n",
       "      <td>154.000000</td>\n",
       "      <td>219.750000</td>\n",
       "      <td>14.000000</td>\n",
       "      <td>0.000000</td>\n",
       "      <td>0.000000</td>\n",
       "      <td>46.000000</td>\n",
       "      <td>8.000000</td>\n",
       "      <td>19.000000</td>\n",
       "      <td>22.000000</td>\n",
       "      <td>563.750000</td>\n",
       "    </tr>\n",
       "    <tr>\n",
       "      <th>max</th>\n",
       "      <td>153193.000000</td>\n",
       "      <td>5349.000000</td>\n",
       "      <td>3843.000000</td>\n",
       "      <td>94142.000000</td>\n",
       "      <td>13394.000000</td>\n",
       "      <td>185.000000</td>\n",
       "      <td>949.000000</td>\n",
       "      <td>6041.000000</td>\n",
       "      <td>24392.000000</td>\n",
       "      <td>4788.000000</td>\n",
       "      <td>12350.000000</td>\n",
       "      <td>115547.000000</td>\n",
       "    </tr>\n",
       "  </tbody>\n",
       "</table>\n",
       "</div>"
      ],
      "text/plain": [
       "                NEds        NDays     NActDays        NPages     NPcreated  \\\n",
       "count    4746.000000  4746.000000  4746.000000   4746.000000   4746.000000   \n",
       "mean     2029.969448  2036.607880   183.162663    689.451960     43.479140   \n",
       "std      7793.300833  1336.119914   374.034481   3355.302483    297.395507   \n",
       "min        50.000000     1.000000     1.000000      1.000000      0.000000   \n",
       "25%        95.000000   835.250000    24.000000     29.000000      1.000000   \n",
       "50%       218.000000  2035.500000    53.000000     68.000000      4.000000   \n",
       "75%       757.750000  3146.500000   154.000000    219.750000     14.000000   \n",
       "max    153193.000000  5349.000000  3843.000000  94142.000000  13394.000000   \n",
       "\n",
       "        pagesWomen  wikiprojWomen      ns_user  ns_wikipedia      ns_talk  \\\n",
       "count  4746.000000    4746.000000  4746.000000   4746.000000  4746.000000   \n",
       "mean      0.438896       0.439949    74.372946     74.368310    49.947745   \n",
       "std       5.327440      17.832244   246.407233    560.782479   215.554281   \n",
       "min       0.000000       0.000000     1.000000      0.000000     0.000000   \n",
       "25%       0.000000       0.000000     4.000000      0.000000     0.000000   \n",
       "50%       0.000000       0.000000    14.000000      1.000000     4.000000   \n",
       "75%       0.000000       0.000000    46.000000      8.000000    19.000000   \n",
       "max     185.000000     949.000000  6041.000000  24392.000000  4788.000000   \n",
       "\n",
       "        ns_userTalk     ns_content  \n",
       "count   4746.000000    4746.000000  \n",
       "mean      96.081753    1521.886641  \n",
       "std      545.025818    6099.009235  \n",
       "min        0.000000       0.000000  \n",
       "25%        1.000000      61.000000  \n",
       "50%        5.000000     151.000000  \n",
       "75%       22.000000     563.750000  \n",
       "max    12350.000000  115547.000000  "
      ]
     },
     "execution_count": 7,
     "metadata": {},
     "output_type": "execute_result"
    }
   ],
   "source": [
    "edit_columns = [\"NEds\", \"NDays\", \"NActDays\", \"NPages\", \"NPcreated\", \"pagesWomen\", \"wikiprojWomen\",\n",
    "                \"ns_user\", \"ns_wikipedia\", \"ns_talk\", \"ns_userTalk\", \"ns_content\"]\n",
    "\n",
    "statistics = df[edit_columns].describe()\n",
    "statistics"
   ]
  },
  {
   "cell_type": "markdown",
   "metadata": {},
   "source": [
    " - *NEds* (total number of editions): Varia entre 50 e 153193 com uma média de aproximadamente 2029.97. A grande diferença entre a média e a mediana (218) é enorme e indica a presença de outliers.\n",
    " - *NDays* (number of days): Varia entre 1 e 5349 com uma média de aproximadamente 2036.61. A distribuição parece relativamente uniforme.\n",
    " - *NActDays* (number of active days): Varia entre 1 e 3843 com uma média de aproximadamente 183.16. A presença de outliers também é indicada pela grande diferença entre a média e a mediana (53).\n",
    " - *NPages* (number of different pages edited): Varia entre 1 e 94142 com uma média de aproximadamente 689.45. A presença de outliers é presente aqui também.\n",
    " - *NPcreated* (number of pages created): A média é de 43.48, mas varia até 13394, indicando outliers.\n",
    " - *pagesWomen* e *wikiprojWomen*: A maioria dos valores é 0, indicando que muitos editores não editaram páginas relacionadas às mulheres. Existe presença de outliers que são os poucos que de fato editaram. Vamos tratar essas duas de uma maneira levemente diferente.\n",
    " - As colunas *ns_user*, *ns_wikipedia*, *ns_talk*, *ns_userTalk* e *ns_content* representam o número de edições em diferentes namespaces. Estas colunas também mostram grandes variações nos seus valores máximos, indicando a presença de outliers."
   ]
  },
  {
   "cell_type": "markdown",
   "metadata": {},
   "source": [
    "### Tratamento proposto:\n",
    "\n",
    "Para as colunas *N_days*, *NActDays*, *NPages*, *NPcreated*, *ns_user*, *ns_wikipedia*, *ns_talk*, *ns_userTalk* e *ns_content* vamos utilizar uma técnica baseada em IQR para limitar os valores mínimos e máximos.  \n",
    "\n",
    "As colunas *pagesWomen* e *wikiprojWomen* serão transformadas em colunas binárias uma vez que tratar com a técnica anterior poderia eliminar a informação por completo devido aos poucos valores diferentes de zero em cada uma.  \n",
    "\n",
    "As demais colunas numéricas serão mantidas da maneira que estão pois não indicaram problemas."
   ]
  },
  {
   "cell_type": "markdown",
   "metadata": {},
   "source": [
    "## Transformações"
   ]
  },
  {
   "cell_type": "markdown",
   "metadata": {},
   "source": [
    "Enfim, baseado em tudo que foi listado, vamos transformar os dados."
   ]
  },
  {
   "cell_type": "markdown",
   "metadata": {},
   "source": [
    "Convertendo a coluna 'C_api' para códigos numéricos"
   ]
  },
  {
   "cell_type": "code",
   "execution_count": 8,
   "metadata": {},
   "outputs": [],
   "source": [
    "df['C_api'] = df['C_api'].map({'unknown': 0, 'male': 1, 'female': 2})"
   ]
  },
  {
   "cell_type": "markdown",
   "metadata": {},
   "source": [
    "Adaptando os códigos de gênero da coluna 'C_man'"
   ]
  },
  {
   "cell_type": "code",
   "execution_count": 9,
   "metadata": {},
   "outputs": [],
   "source": [
    "df['C_man'] = df['C_man'] - 1"
   ]
  },
  {
   "cell_type": "markdown",
   "metadata": {},
   "source": [
    "Vamos transformar a coluna de firstDay e lastDay de fato em colunas de data"
   ]
  },
  {
   "cell_type": "code",
   "execution_count": 10,
   "metadata": {},
   "outputs": [],
   "source": [
    "df[\"firstDay\"] = pd.to_datetime(df[\"firstDay\"], format='%Y%m%d%H%M%S')\n",
    "df[\"lastDay\"] = pd.to_datetime(df[\"lastDay\"], format='%Y%m%d%H%M%S')"
   ]
  },
  {
   "cell_type": "markdown",
   "metadata": {},
   "source": [
    "Transformando as colunas *paesWomen* e *wikiprojWomen* em colunas binárias"
   ]
  },
  {
   "cell_type": "code",
   "execution_count": 11,
   "metadata": {},
   "outputs": [],
   "source": [
    "df[\"pagesWomen\"] = df[\"pagesWomen\"].apply(lambda x: 1 if x > 0 else 0)\n",
    "df[\"wikiprojWomen\"] = df[\"wikiprojWomen\"].apply(lambda x: 1 if x > 0 else 0)"
   ]
  },
  {
   "cell_type": "markdown",
   "metadata": {},
   "source": [
    "Tratando os outliers com uma técnica baseada em IQR."
   ]
  },
  {
   "cell_type": "code",
   "execution_count": 12,
   "metadata": {},
   "outputs": [],
   "source": [
    "# Função para tratar outliers usando a técnica IQR\n",
    "def treat_outliers_iqr(df, column):\n",
    "    Q1 = df[column].quantile(0.25)\n",
    "    Q3 = df[column].quantile(0.75)\n",
    "    IQR = Q3 - Q1\n",
    "    lower_bound = Q1 - 1.5 * IQR\n",
    "    upper_bound = Q3 + 1.5 * IQR\n",
    "    \n",
    "    # Substituindo os outliers pelos limites do IQR\n",
    "    df[column] = df[column].apply(lambda x: upper_bound if x > upper_bound else (lower_bound if x < lower_bound else x))\n",
    "    return df\n",
    "\n",
    "# Tratando outliers nas colunas indicadas\n",
    "columns_to_treat = [\"NEds\", \"NActDays\", \"NPages\", \"NPcreated\", \"ns_user\", \"ns_wikipedia\", \"ns_talk\", \"ns_userTalk\", \"ns_content\"]\n",
    "\n",
    "for col in columns_to_treat:\n",
    "    df = treat_outliers_iqr(df, col)"
   ]
  },
  {
   "cell_type": "markdown",
   "metadata": {},
   "source": [
    "##  Verificando estatísticas após o tratamento"
   ]
  },
  {
   "cell_type": "code",
   "execution_count": 13,
   "metadata": {},
   "outputs": [
    {
     "data": {
      "text/html": [
       "<div>\n",
       "<style scoped>\n",
       "    .dataframe tbody tr th:only-of-type {\n",
       "        vertical-align: middle;\n",
       "    }\n",
       "\n",
       "    .dataframe tbody tr th {\n",
       "        vertical-align: top;\n",
       "    }\n",
       "\n",
       "    .dataframe thead th {\n",
       "        text-align: right;\n",
       "    }\n",
       "</style>\n",
       "<table border=\"1\" class=\"dataframe\">\n",
       "  <thead>\n",
       "    <tr style=\"text-align: right;\">\n",
       "      <th></th>\n",
       "      <th>gender</th>\n",
       "      <th>C_api</th>\n",
       "      <th>C_man</th>\n",
       "      <th>E_NEds</th>\n",
       "      <th>E_Bpag</th>\n",
       "      <th>NEds</th>\n",
       "      <th>NDays</th>\n",
       "      <th>NActDays</th>\n",
       "      <th>NPages</th>\n",
       "      <th>NPcreated</th>\n",
       "      <th>pagesWomen</th>\n",
       "      <th>wikiprojWomen</th>\n",
       "      <th>ns_user</th>\n",
       "      <th>ns_wikipedia</th>\n",
       "      <th>ns_talk</th>\n",
       "      <th>ns_userTalk</th>\n",
       "      <th>ns_content</th>\n",
       "      <th>weightIJ</th>\n",
       "      <th>NIJ</th>\n",
       "    </tr>\n",
       "  </thead>\n",
       "  <tbody>\n",
       "    <tr>\n",
       "      <th>count</th>\n",
       "      <td>4746.000000</td>\n",
       "      <td>4746.000000</td>\n",
       "      <td>4746.000000</td>\n",
       "      <td>4746.000000</td>\n",
       "      <td>4746.000000</td>\n",
       "      <td>4746.000000</td>\n",
       "      <td>4746.000000</td>\n",
       "      <td>4746.000000</td>\n",
       "      <td>4746.000000</td>\n",
       "      <td>4746.000000</td>\n",
       "      <td>4746.000000</td>\n",
       "      <td>4746.000000</td>\n",
       "      <td>4746.000000</td>\n",
       "      <td>4746.000000</td>\n",
       "      <td>4746.000000</td>\n",
       "      <td>4746.000000</td>\n",
       "      <td>4746.000000</td>\n",
       "      <td>4746.000000</td>\n",
       "      <td>4746.000000</td>\n",
       "    </tr>\n",
       "    <tr>\n",
       "      <th>mean</th>\n",
       "      <td>0.737042</td>\n",
       "      <td>0.426254</td>\n",
       "      <td>1.082807</td>\n",
       "      <td>1.484197</td>\n",
       "      <td>1.646228</td>\n",
       "      <td>534.669617</td>\n",
       "      <td>2036.607880</td>\n",
       "      <td>107.643911</td>\n",
       "      <td>154.051043</td>\n",
       "      <td>9.575327</td>\n",
       "      <td>0.053940</td>\n",
       "      <td>0.011589</td>\n",
       "      <td>31.358618</td>\n",
       "      <td>5.473030</td>\n",
       "      <td>12.894753</td>\n",
       "      <td>15.104720</td>\n",
       "      <td>394.229825</td>\n",
       "      <td>1.000000</td>\n",
       "      <td>867.148546</td>\n",
       "    </tr>\n",
       "    <tr>\n",
       "      <th>std</th>\n",
       "      <td>0.585355</td>\n",
       "      <td>0.566484</td>\n",
       "      <td>0.964978</td>\n",
       "      <td>1.099795</td>\n",
       "      <td>1.079263</td>\n",
       "      <td>609.001757</td>\n",
       "      <td>1336.119914</td>\n",
       "      <td>115.380816</td>\n",
       "      <td>174.464930</td>\n",
       "      <td>11.993828</td>\n",
       "      <td>0.225923</td>\n",
       "      <td>0.107037</td>\n",
       "      <td>36.811117</td>\n",
       "      <td>7.467627</td>\n",
       "      <td>17.019181</td>\n",
       "      <td>19.135006</td>\n",
       "      <td>465.118926</td>\n",
       "      <td>0.325763</td>\n",
       "      <td>325.933076</td>\n",
       "    </tr>\n",
       "    <tr>\n",
       "      <th>min</th>\n",
       "      <td>0.000000</td>\n",
       "      <td>0.000000</td>\n",
       "      <td>0.000000</td>\n",
       "      <td>0.000000</td>\n",
       "      <td>0.000000</td>\n",
       "      <td>50.000000</td>\n",
       "      <td>1.000000</td>\n",
       "      <td>1.000000</td>\n",
       "      <td>1.000000</td>\n",
       "      <td>0.000000</td>\n",
       "      <td>0.000000</td>\n",
       "      <td>0.000000</td>\n",
       "      <td>1.000000</td>\n",
       "      <td>0.000000</td>\n",
       "      <td>0.000000</td>\n",
       "      <td>0.000000</td>\n",
       "      <td>0.000000</td>\n",
       "      <td>0.411985</td>\n",
       "      <td>297.000000</td>\n",
       "    </tr>\n",
       "    <tr>\n",
       "      <th>25%</th>\n",
       "      <td>0.000000</td>\n",
       "      <td>0.000000</td>\n",
       "      <td>0.000000</td>\n",
       "      <td>1.000000</td>\n",
       "      <td>1.000000</td>\n",
       "      <td>95.000000</td>\n",
       "      <td>835.250000</td>\n",
       "      <td>24.000000</td>\n",
       "      <td>29.000000</td>\n",
       "      <td>1.000000</td>\n",
       "      <td>0.000000</td>\n",
       "      <td>0.000000</td>\n",
       "      <td>4.000000</td>\n",
       "      <td>0.000000</td>\n",
       "      <td>0.000000</td>\n",
       "      <td>1.000000</td>\n",
       "      <td>61.000000</td>\n",
       "      <td>0.831954</td>\n",
       "      <td>664.000000</td>\n",
       "    </tr>\n",
       "    <tr>\n",
       "      <th>50%</th>\n",
       "      <td>1.000000</td>\n",
       "      <td>0.000000</td>\n",
       "      <td>2.000000</td>\n",
       "      <td>1.000000</td>\n",
       "      <td>2.000000</td>\n",
       "      <td>218.000000</td>\n",
       "      <td>2035.500000</td>\n",
       "      <td>53.000000</td>\n",
       "      <td>68.000000</td>\n",
       "      <td>4.000000</td>\n",
       "      <td>0.000000</td>\n",
       "      <td>0.000000</td>\n",
       "      <td>14.000000</td>\n",
       "      <td>1.000000</td>\n",
       "      <td>4.000000</td>\n",
       "      <td>5.000000</td>\n",
       "      <td>151.000000</td>\n",
       "      <td>0.997535</td>\n",
       "      <td>917.000000</td>\n",
       "    </tr>\n",
       "    <tr>\n",
       "      <th>75%</th>\n",
       "      <td>1.000000</td>\n",
       "      <td>1.000000</td>\n",
       "      <td>2.000000</td>\n",
       "      <td>2.000000</td>\n",
       "      <td>3.000000</td>\n",
       "      <td>757.750000</td>\n",
       "      <td>3146.500000</td>\n",
       "      <td>154.000000</td>\n",
       "      <td>219.750000</td>\n",
       "      <td>14.000000</td>\n",
       "      <td>0.000000</td>\n",
       "      <td>0.000000</td>\n",
       "      <td>46.000000</td>\n",
       "      <td>8.000000</td>\n",
       "      <td>19.000000</td>\n",
       "      <td>22.000000</td>\n",
       "      <td>563.750000</td>\n",
       "      <td>1.057149</td>\n",
       "      <td>994.000000</td>\n",
       "    </tr>\n",
       "    <tr>\n",
       "      <th>max</th>\n",
       "      <td>2.000000</td>\n",
       "      <td>2.000000</td>\n",
       "      <td>2.000000</td>\n",
       "      <td>3.000000</td>\n",
       "      <td>3.000000</td>\n",
       "      <td>1751.875000</td>\n",
       "      <td>5349.000000</td>\n",
       "      <td>349.000000</td>\n",
       "      <td>505.875000</td>\n",
       "      <td>33.500000</td>\n",
       "      <td>1.000000</td>\n",
       "      <td>1.000000</td>\n",
       "      <td>109.000000</td>\n",
       "      <td>20.000000</td>\n",
       "      <td>47.500000</td>\n",
       "      <td>53.500000</td>\n",
       "      <td>1317.875000</td>\n",
       "      <td>1.865008</td>\n",
       "      <td>1596.000000</td>\n",
       "    </tr>\n",
       "  </tbody>\n",
       "</table>\n",
       "</div>"
      ],
      "text/plain": [
       "            gender        C_api        C_man       E_NEds       E_Bpag  \\\n",
       "count  4746.000000  4746.000000  4746.000000  4746.000000  4746.000000   \n",
       "mean      0.737042     0.426254     1.082807     1.484197     1.646228   \n",
       "std       0.585355     0.566484     0.964978     1.099795     1.079263   \n",
       "min       0.000000     0.000000     0.000000     0.000000     0.000000   \n",
       "25%       0.000000     0.000000     0.000000     1.000000     1.000000   \n",
       "50%       1.000000     0.000000     2.000000     1.000000     2.000000   \n",
       "75%       1.000000     1.000000     2.000000     2.000000     3.000000   \n",
       "max       2.000000     2.000000     2.000000     3.000000     3.000000   \n",
       "\n",
       "              NEds        NDays     NActDays       NPages    NPcreated  \\\n",
       "count  4746.000000  4746.000000  4746.000000  4746.000000  4746.000000   \n",
       "mean    534.669617  2036.607880   107.643911   154.051043     9.575327   \n",
       "std     609.001757  1336.119914   115.380816   174.464930    11.993828   \n",
       "min      50.000000     1.000000     1.000000     1.000000     0.000000   \n",
       "25%      95.000000   835.250000    24.000000    29.000000     1.000000   \n",
       "50%     218.000000  2035.500000    53.000000    68.000000     4.000000   \n",
       "75%     757.750000  3146.500000   154.000000   219.750000    14.000000   \n",
       "max    1751.875000  5349.000000   349.000000   505.875000    33.500000   \n",
       "\n",
       "        pagesWomen  wikiprojWomen      ns_user  ns_wikipedia      ns_talk  \\\n",
       "count  4746.000000    4746.000000  4746.000000   4746.000000  4746.000000   \n",
       "mean      0.053940       0.011589    31.358618      5.473030    12.894753   \n",
       "std       0.225923       0.107037    36.811117      7.467627    17.019181   \n",
       "min       0.000000       0.000000     1.000000      0.000000     0.000000   \n",
       "25%       0.000000       0.000000     4.000000      0.000000     0.000000   \n",
       "50%       0.000000       0.000000    14.000000      1.000000     4.000000   \n",
       "75%       0.000000       0.000000    46.000000      8.000000    19.000000   \n",
       "max       1.000000       1.000000   109.000000     20.000000    47.500000   \n",
       "\n",
       "       ns_userTalk   ns_content     weightIJ          NIJ  \n",
       "count  4746.000000  4746.000000  4746.000000  4746.000000  \n",
       "mean     15.104720   394.229825     1.000000   867.148546  \n",
       "std      19.135006   465.118926     0.325763   325.933076  \n",
       "min       0.000000     0.000000     0.411985   297.000000  \n",
       "25%       1.000000    61.000000     0.831954   664.000000  \n",
       "50%       5.000000   151.000000     0.997535   917.000000  \n",
       "75%      22.000000   563.750000     1.057149   994.000000  \n",
       "max      53.500000  1317.875000     1.865008  1596.000000  "
      ]
     },
     "execution_count": 13,
     "metadata": {},
     "output_type": "execute_result"
    }
   ],
   "source": [
    "statistics_after_treatment = df.describe()\n",
    "statistics_after_treatment"
   ]
  },
  {
   "cell_type": "markdown",
   "metadata": {},
   "source": [
    "NEds, NActDays, NPages, NPcreated, ns_user, ns_wikipedia, ns_talk, ns_userTalk e ns_content, agora têm valores máximos significativamente reduzidos em comparação com as estatísticas anteriores, indicando que os outliers foram tratados."
   ]
  },
  {
   "cell_type": "markdown",
   "metadata": {},
   "source": [
    "## Conclusão e próximos passos:\n",
    "\n",
    " - Os dados agora estão mais consistentes e prontos para utilização de modelos.\n",
    " - A conversão das colunas de data para o formato datetime facilitará qualquer análise temporal subsequente.\n",
    " - Talvez seja interessante aplicar normalização dos dados por z-score para alguns modelos de classificação."
   ]
  },
  {
   "cell_type": "code",
   "execution_count": 14,
   "metadata": {},
   "outputs": [],
   "source": [
    "df.to_csv(\"homologated_data.csv\", index=False)"
   ]
  }
 ],
 "metadata": {
  "kernelspec": {
   "display_name": "base",
   "language": "python",
   "name": "python3"
  },
  "language_info": {
   "codemirror_mode": {
    "name": "ipython",
    "version": 3
   },
   "file_extension": ".py",
   "mimetype": "text/x-python",
   "name": "python",
   "nbconvert_exporter": "python",
   "pygments_lexer": "ipython3",
   "version": "3.8.8"
  },
  "orig_nbformat": 4
 },
 "nbformat": 4,
 "nbformat_minor": 2
}
